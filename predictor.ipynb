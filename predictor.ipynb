{
    "metadata": {
        "kernelspec": {
            "name": "python3",
            "display_name": "Python 3 (ipykernel)",
            "language": "python"
        }
    },
    "nbformat": 4,
    "nbformat_minor": 2,
    "cells": [
        {
            "attachments": {},
            "cell_type": "markdown",
            "metadata": {},
            "source": [
                "# Library Imports"
            ]
        },
        {
            "cell_type": "code",
            "execution_count": 385,
            "metadata": {},
            "outputs": [],
            "source": [
                "# Library for dataset manipulation\n",
                "import pandas as pd\n",
                "# Mathematical functions for arrays\n",
                "import numpy as np\n",
                "# Draw graphs based on data\n",
                "import matplotlib.pyplot as plt\n",
                "# Heatmap library\n",
                "import seaborn as sn\n",
                "\n",
                "# Using sklearn digits dataset\n",
                "from sklearn.datasets import load_iris\n",
                "# Split arrays or matrices into random train and test subsets\n",
                "from sklearn.model_selection import train_test_split\n",
                "# Build a text report showing the main classification metrics\n",
                "from sklearn.metrics import classification_report\n",
                "# Compute confusion matrix to evaluate the accuracy of a classification\n",
                "from sklearn.metrics import confusion_matrix\n",
                "# Classifier implementing the k-nearest neighbors vote\n",
                "from sklearn.neighbors import KNeighborsClassifier"
            ]
        },
        {
            "attachments": {},
            "cell_type": "markdown",
            "metadata": {},
            "source": [
                "# Loading Dataset"
            ]
        },
        {
            "cell_type": "code",
            "execution_count": 386,
            "metadata": {},
            "outputs": [],
            "source": [
                "# Setting the dataset\n",
                "digits = load_digits()"
            ]
        },
        {
            "cell_type": "code",
            "execution_count": 387,
            "metadata": {},
            "outputs": [
                {
                    "data": {
                        "text/plain": "array([0, 1, 2, 3, 4, 5, 6, 7, 8, 9])"
                    },
                    "execution_count": 387,
                    "metadata": {},
                    "output_type": "execute_result"
                }
            ],
            "source": [
                "# The possible targets of the dataset\n",
                "digits.target_names"
            ]
        },
        {
            "cell_type": "code",
            "execution_count": 388,
            "metadata": {},
            "outputs": [
                {
                    "name": "stdout",
                    "output_type": "stream",
                    "text": "[[ 0.  0.  5. ...  0.  0.  0.]\n [ 0.  0.  0. ... 10.  0.  0.]\n [ 0.  0.  0. ... 16.  9.  0.]\n ...\n [ 0.  0.  1. ...  6.  0.  0.]\n [ 0.  0.  2. ... 12.  0.  0.]\n [ 0.  0. 10. ... 12.  1.  0.]]\n"
                }
            ],
            "source": [
                "# Loading the database as a table, with the features of each data index as a column\n",
                "df = pd.DataFrame(digits.data,columns=digits.feature_names)\n",
                "df.head()\n",
                "arr = df.to_numpy()\n",
                "print(arr)"
            ]
        },
        {
            "cell_type": "code",
            "execution_count": 389,
            "metadata": {},
            "outputs": [
                {
                    "data": {
                        "text/html": "\u003cdiv\u003e\n\u003cstyle scoped\u003e\n    .dataframe tbody tr th:only-of-type {\n        vertical-align: middle;\n    }\n\n    .dataframe tbody tr th {\n        vertical-align: top;\n    }\n\n    .dataframe thead th {\n        text-align: right;\n    }\n\u003c/style\u003e\n\u003ctable border=\"1\" class=\"dataframe\"\u003e\n  \u003cthead\u003e\n    \u003ctr style=\"text-align: right;\"\u003e\n      \u003cth\u003e\u003c/th\u003e\n      \u003cth\u003epixel_0_0\u003c/th\u003e\n      \u003cth\u003epixel_0_1\u003c/th\u003e\n      \u003cth\u003epixel_0_2\u003c/th\u003e\n      \u003cth\u003epixel_0_3\u003c/th\u003e\n      \u003cth\u003epixel_0_4\u003c/th\u003e\n      \u003cth\u003epixel_0_5\u003c/th\u003e\n      \u003cth\u003epixel_0_6\u003c/th\u003e\n      \u003cth\u003epixel_0_7\u003c/th\u003e\n      \u003cth\u003epixel_1_0\u003c/th\u003e\n      \u003cth\u003epixel_1_1\u003c/th\u003e\n      \u003cth\u003e...\u003c/th\u003e\n      \u003cth\u003epixel_6_7\u003c/th\u003e\n      \u003cth\u003epixel_7_0\u003c/th\u003e\n      \u003cth\u003epixel_7_1\u003c/th\u003e\n      \u003cth\u003epixel_7_2\u003c/th\u003e\n      \u003cth\u003epixel_7_3\u003c/th\u003e\n      \u003cth\u003epixel_7_4\u003c/th\u003e\n      \u003cth\u003epixel_7_5\u003c/th\u003e\n      \u003cth\u003epixel_7_6\u003c/th\u003e\n      \u003cth\u003epixel_7_7\u003c/th\u003e\n      \u003cth\u003etarget\u003c/th\u003e\n    \u003c/tr\u003e\n  \u003c/thead\u003e\n  \u003ctbody\u003e\n    \u003ctr\u003e\n      \u003cth\u003e0\u003c/th\u003e\n      \u003ctd\u003e0.0\u003c/td\u003e\n      \u003ctd\u003e0.0\u003c/td\u003e\n      \u003ctd\u003e5.0\u003c/td\u003e\n      \u003ctd\u003e13.0\u003c/td\u003e\n      \u003ctd\u003e9.0\u003c/td\u003e\n      \u003ctd\u003e1.0\u003c/td\u003e\n      \u003ctd\u003e0.0\u003c/td\u003e\n      \u003ctd\u003e0.0\u003c/td\u003e\n      \u003ctd\u003e0.0\u003c/td\u003e\n      \u003ctd\u003e0.0\u003c/td\u003e\n      \u003ctd\u003e...\u003c/td\u003e\n      \u003ctd\u003e0.0\u003c/td\u003e\n      \u003ctd\u003e0.0\u003c/td\u003e\n      \u003ctd\u003e0.0\u003c/td\u003e\n      \u003ctd\u003e6.0\u003c/td\u003e\n      \u003ctd\u003e13.0\u003c/td\u003e\n      \u003ctd\u003e10.0\u003c/td\u003e\n      \u003ctd\u003e0.0\u003c/td\u003e\n      \u003ctd\u003e0.0\u003c/td\u003e\n      \u003ctd\u003e0.0\u003c/td\u003e\n      \u003ctd\u003e0\u003c/td\u003e\n    \u003c/tr\u003e\n    \u003ctr\u003e\n      \u003cth\u003e1\u003c/th\u003e\n      \u003ctd\u003e0.0\u003c/td\u003e\n      \u003ctd\u003e0.0\u003c/td\u003e\n      \u003ctd\u003e0.0\u003c/td\u003e\n      \u003ctd\u003e12.0\u003c/td\u003e\n      \u003ctd\u003e13.0\u003c/td\u003e\n      \u003ctd\u003e5.0\u003c/td\u003e\n      \u003ctd\u003e0.0\u003c/td\u003e\n      \u003ctd\u003e0.0\u003c/td\u003e\n      \u003ctd\u003e0.0\u003c/td\u003e\n      \u003ctd\u003e0.0\u003c/td\u003e\n      \u003ctd\u003e...\u003c/td\u003e\n      \u003ctd\u003e0.0\u003c/td\u003e\n      \u003ctd\u003e0.0\u003c/td\u003e\n      \u003ctd\u003e0.0\u003c/td\u003e\n      \u003ctd\u003e0.0\u003c/td\u003e\n      \u003ctd\u003e11.0\u003c/td\u003e\n      \u003ctd\u003e16.0\u003c/td\u003e\n      \u003ctd\u003e10.0\u003c/td\u003e\n      \u003ctd\u003e0.0\u003c/td\u003e\n      \u003ctd\u003e0.0\u003c/td\u003e\n      \u003ctd\u003e1\u003c/td\u003e\n    \u003c/tr\u003e\n    \u003ctr\u003e\n      \u003cth\u003e2\u003c/th\u003e\n      \u003ctd\u003e0.0\u003c/td\u003e\n      \u003ctd\u003e0.0\u003c/td\u003e\n      \u003ctd\u003e0.0\u003c/td\u003e\n      \u003ctd\u003e4.0\u003c/td\u003e\n      \u003ctd\u003e15.0\u003c/td\u003e\n      \u003ctd\u003e12.0\u003c/td\u003e\n      \u003ctd\u003e0.0\u003c/td\u003e\n      \u003ctd\u003e0.0\u003c/td\u003e\n      \u003ctd\u003e0.0\u003c/td\u003e\n      \u003ctd\u003e0.0\u003c/td\u003e\n      \u003ctd\u003e...\u003c/td\u003e\n      \u003ctd\u003e0.0\u003c/td\u003e\n      \u003ctd\u003e0.0\u003c/td\u003e\n      \u003ctd\u003e0.0\u003c/td\u003e\n      \u003ctd\u003e0.0\u003c/td\u003e\n      \u003ctd\u003e3.0\u003c/td\u003e\n      \u003ctd\u003e11.0\u003c/td\u003e\n      \u003ctd\u003e16.0\u003c/td\u003e\n      \u003ctd\u003e9.0\u003c/td\u003e\n      \u003ctd\u003e0.0\u003c/td\u003e\n      \u003ctd\u003e2\u003c/td\u003e\n    \u003c/tr\u003e\n    \u003ctr\u003e\n      \u003cth\u003e3\u003c/th\u003e\n      \u003ctd\u003e0.0\u003c/td\u003e\n      \u003ctd\u003e0.0\u003c/td\u003e\n      \u003ctd\u003e7.0\u003c/td\u003e\n      \u003ctd\u003e15.0\u003c/td\u003e\n      \u003ctd\u003e13.0\u003c/td\u003e\n      \u003ctd\u003e1.0\u003c/td\u003e\n      \u003ctd\u003e0.0\u003c/td\u003e\n      \u003ctd\u003e0.0\u003c/td\u003e\n      \u003ctd\u003e0.0\u003c/td\u003e\n      \u003ctd\u003e8.0\u003c/td\u003e\n      \u003ctd\u003e...\u003c/td\u003e\n      \u003ctd\u003e0.0\u003c/td\u003e\n      \u003ctd\u003e0.0\u003c/td\u003e\n      \u003ctd\u003e0.0\u003c/td\u003e\n      \u003ctd\u003e7.0\u003c/td\u003e\n      \u003ctd\u003e13.0\u003c/td\u003e\n      \u003ctd\u003e13.0\u003c/td\u003e\n      \u003ctd\u003e9.0\u003c/td\u003e\n      \u003ctd\u003e0.0\u003c/td\u003e\n      \u003ctd\u003e0.0\u003c/td\u003e\n      \u003ctd\u003e3\u003c/td\u003e\n    \u003c/tr\u003e\n    \u003ctr\u003e\n      \u003cth\u003e4\u003c/th\u003e\n      \u003ctd\u003e0.0\u003c/td\u003e\n      \u003ctd\u003e0.0\u003c/td\u003e\n      \u003ctd\u003e0.0\u003c/td\u003e\n      \u003ctd\u003e1.0\u003c/td\u003e\n      \u003ctd\u003e11.0\u003c/td\u003e\n      \u003ctd\u003e0.0\u003c/td\u003e\n      \u003ctd\u003e0.0\u003c/td\u003e\n      \u003ctd\u003e0.0\u003c/td\u003e\n      \u003ctd\u003e0.0\u003c/td\u003e\n      \u003ctd\u003e0.0\u003c/td\u003e\n      \u003ctd\u003e...\u003c/td\u003e\n      \u003ctd\u003e0.0\u003c/td\u003e\n      \u003ctd\u003e0.0\u003c/td\u003e\n      \u003ctd\u003e0.0\u003c/td\u003e\n      \u003ctd\u003e0.0\u003c/td\u003e\n      \u003ctd\u003e2.0\u003c/td\u003e\n      \u003ctd\u003e16.0\u003c/td\u003e\n      \u003ctd\u003e4.0\u003c/td\u003e\n      \u003ctd\u003e0.0\u003c/td\u003e\n      \u003ctd\u003e0.0\u003c/td\u003e\n      \u003ctd\u003e4\u003c/td\u003e\n    \u003c/tr\u003e\n  \u003c/tbody\u003e\n\u003c/table\u003e\n\u003cp\u003e5 rows × 65 columns\u003c/p\u003e\n\u003c/div\u003e",
                        "text/plain": "   pixel_0_0  pixel_0_1  pixel_0_2  pixel_0_3  pixel_0_4  pixel_0_5  \\\n0        0.0        0.0        5.0       13.0        9.0        1.0   \n1        0.0        0.0        0.0       12.0       13.0        5.0   \n2        0.0        0.0        0.0        4.0       15.0       12.0   \n3        0.0        0.0        7.0       15.0       13.0        1.0   \n4        0.0        0.0        0.0        1.0       11.0        0.0   \n\n   pixel_0_6  pixel_0_7  pixel_1_0  pixel_1_1  ...  pixel_6_7  pixel_7_0  \\\n0        0.0        0.0        0.0        0.0  ...        0.0        0.0   \n1        0.0        0.0        0.0        0.0  ...        0.0        0.0   \n2        0.0        0.0        0.0        0.0  ...        0.0        0.0   \n3        0.0        0.0        0.0        8.0  ...        0.0        0.0   \n4        0.0        0.0        0.0        0.0  ...        0.0        0.0   \n\n   pixel_7_1  pixel_7_2  pixel_7_3  pixel_7_4  pixel_7_5  pixel_7_6  \\\n0        0.0        6.0       13.0       10.0        0.0        0.0   \n1        0.0        0.0       11.0       16.0       10.0        0.0   \n2        0.0        0.0        3.0       11.0       16.0        9.0   \n3        0.0        7.0       13.0       13.0        9.0        0.0   \n4        0.0        0.0        2.0       16.0        4.0        0.0   \n\n   pixel_7_7  target  \n0        0.0       0  \n1        0.0       1  \n2        0.0       2  \n3        0.0       3  \n4        0.0       4  \n\n[5 rows x 65 columns]"
                    },
                    "execution_count": 389,
                    "metadata": {},
                    "output_type": "execute_result"
                }
            ],
            "source": [
                "# Adding an extra 'target' column, which is the classifier the model is aiming to predict\n",
                "df['target'] = digits.target\n",
                "df.head()"
            ]
        },
        {
            "attachments": {},
            "cell_type": "markdown",
            "metadata": {},
            "source": [
                "Adding the target data to each index of the dataset allows categorise the datapoint of the k-nearest neighbor when classifying each predicted datapoint. "
            ]
        },
        {
            "attachments": {},
            "cell_type": "markdown",
            "metadata": {},
            "source": [
                "# Create KNN Model\n",
                "The KNN Model works by measuring the euclidean distance of the point to its nearest k (in this case 5) neighbors in a multi-dimensional field. The greatest number of k neighbors near the datapoint classifies the data to that category. \n",
                "\n",
                "K-NN works best for data that is targetting a categorical result, but using integar, or float values. "
            ]
        },
        {
            "cell_type": "code",
            "execution_count": 390,
            "metadata": {},
            "outputs": [],
            "source": [
                "# Splitting the data into randomly selected testing and training subsets, with 30% of the data used as testing, and 70% used as training for the model. \n",
                "X_train, X_test, y_train, y_test = train_test_split(np.array(df.drop('target',axis='columns')), np.array(df.target), test_size=0.1)"
            ]
        },
        {
            "cell_type": "code",
            "execution_count": 391,
            "metadata": {},
            "outputs": [],
            "source": [
                "# Selecting the nearest 5 neighbors of each predicted datapoint in the testing field. \n",
                "knn = KNeighborsClassifier(n_neighbors=3)"
            ]
        },
        {
            "cell_type": "code",
            "execution_count": 392,
            "metadata": {},
            "outputs": [
                {
                    "data": {
                        "text/plain": "0.9777777777777777"
                    },
                    "execution_count": 392,
                    "metadata": {},
                    "output_type": "execute_result"
                }
            ],
            "source": [
                "best = 0\n",
                "\n",
                "for i in range(100):\n",
                "    # Fit the k-nearest neighbors classifier from the training dataset\n",
                "    model = knn.fit(X_train, y_train)\n",
                "    # Scores the accuracy of the model\n",
                "    acc = knn.score(X_test,y_test)\n",
                "    if  acc \u003e best:\n",
                "        bestx = X_test\n",
                "        besty = y_test\n",
                "        best = acc\n",
                "best"
            ]
        },
        {
            "attachments": {},
            "cell_type": "markdown",
            "metadata": {},
            "source": [
                "# Confusion Matrix and Classification report\n",
                "The confusion matrix compares the class the array predicts, against the true class of the data, a perfectly accurate model would only have a value greater than 0 in each corresponding true value and predicted value"
            ]
        },
        {
            "cell_type": "code",
            "execution_count": 393,
            "metadata": {},
            "outputs": [
                {
                    "data": {
                        "text/plain": "array([[26,  0,  0,  0,  0,  0,  0,  0,  0,  0],\n       [ 0, 20,  0,  0,  0,  0,  0,  0,  0,  0],\n       [ 0,  0, 10,  0,  0,  0,  0,  0,  0,  0],\n       [ 0,  0,  0, 18,  0,  0,  0,  0,  0,  0],\n       [ 0,  0,  0,  0, 20,  0,  0,  0,  0,  0],\n       [ 0,  0,  0,  0,  0, 23,  0,  0,  0,  1],\n       [ 0,  0,  0,  0,  0,  0, 17,  0,  0,  0],\n       [ 0,  0,  0,  0,  0,  0,  0, 15,  0,  1],\n       [ 0,  1,  0,  1,  0,  0,  0,  0, 22,  0],\n       [ 0,  0,  0,  0,  0,  0,  0,  0,  0,  5]])"
                    },
                    "execution_count": 393,
                    "metadata": {},
                    "output_type": "execute_result"
                }
            ],
            "source": [
                "# predicted y (target) value\n",
                "y_pred = knn.predict(bestx)\n",
                "# Creating a confusion matrix tested y values against actual y values\n",
                "cm = confusion_matrix(besty, y_pred)\n",
                "cm"
            ]
        },
        {
            "attachments": {},
            "cell_type": "markdown",
            "metadata": {},
            "source": [
                "Overall, the model can be evaulated as effective in predicting digit patterns, with only a couple values of 1, and a 2 or 3 sometimes. "
            ]
        },
        {
            "cell_type": "code",
            "execution_count": 394,
            "metadata": {},
            "outputs": [
                {
                    "data": {
                        "text/plain": "Text(58.222222222222214, 0.5, 'Truth')"
                    },
                    "execution_count": 394,
                    "metadata": {},
                    "output_type": "execute_result"
                },
                {
                    "data": {
                        "image/png": "[encoded data removed]",
                        "text/plain": "\u003cFigure size 700x500 with 2 Axes\u003e"
                    },
                    "metadata": {},
                    "output_type": "display_data"
                }
            ],
            "source": [
                "plt.figure(figsize=(7,5))\n",
                "# Plotting the heatmap with values inside each cell\n",
                "sn.heatmap(cm, annot=True)\n",
                "plt.xlabel('Predicted')\n",
                "plt.ylabel('Truth')"
            ]
        },
        {
            "attachments": {},
            "cell_type": "markdown",
            "metadata": {},
            "source": [
                "## Classification Report Definitions\n",
                "\n",
                "precision - number of true positives divided by the total number of true Positives and False Positives\n",
                "\n",
                "recall - number of true positives divided by the total number of true positives and false negatives\n",
                "\n",
                "f1-score - The harmonic mean of precision and recall, taking both false positive and false negatives into account. \n",
                "\n",
                "support - the number of occurrences of each particular class in the true responses\n",
                "\n",
                "accuracy - the number of occurrences of each particular class in the true responses\n",
                "\n",
                "macro avg - arithmetic mean of all the per-class F1 score\n",
                "\n",
                "weighted avg -  to the proportion of each class’s support relative to the sum of all support values"
            ]
        },
        {
            "cell_type": "code",
            "execution_count": 395,
            "metadata": {},
            "outputs": [
                {
                    "name": "stdout",
                    "output_type": "stream",
                    "text": "              precision    recall  f1-score   support\n\n           0       1.00      1.00      1.00        26\n           1       0.95      1.00      0.98        20\n           2       1.00      1.00      1.00        10\n           3       0.95      1.00      0.97        18\n           4       1.00      1.00      1.00        20\n           5       1.00      0.96      0.98        24\n           6       1.00      1.00      1.00        17\n           7       1.00      0.94      0.97        16\n           8       1.00      0.92      0.96        24\n           9       0.71      1.00      0.83         5\n\n    accuracy                           0.98       180\n   macro avg       0.96      0.98      0.97       180\nweighted avg       0.98      0.98      0.98       180\n\n"
                }
            ],
            "source": [
                "# Classification report, tested true value vs predicted value\n",
                "print(classification_report(besty, y_pred))"
            ]
        },
        {
            "attachments": {},
            "cell_type": "markdown",
            "metadata": {},
            "source": [
                "Each average is around the 98-99% accuracy across each accuracy category, meaning that the model is extremely accurate. "
            ]
        }
    ]
}
